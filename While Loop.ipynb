{
 "cells": [
  {
   "cell_type": "code",
   "execution_count": 1,
   "id": "82f534e5",
   "metadata": {},
   "outputs": [
    {
     "name": "stdout",
     "output_type": "stream",
     "text": [
      "1\n",
      "2\n",
      "3\n",
      "4\n",
      "5\n",
      "6\n",
      "7\n",
      "8\n",
      "9\n",
      "10\n"
     ]
    }
   ],
   "source": [
    "a=1\n",
    "while a<=10:\n",
    "    print(a)\n",
    "    a=a+1"
   ]
  },
  {
   "cell_type": "code",
   "execution_count": 4,
   "id": "7987a57a",
   "metadata": {},
   "outputs": [
    {
     "name": "stdout",
     "output_type": "stream",
     "text": [
      "Enter your limit:45\n"
     ]
    },
    {
     "data": {
      "text/plain": [
       "1035"
      ]
     },
     "execution_count": 4,
     "metadata": {},
     "output_type": "execute_result"
    }
   ],
   "source": [
    "#sum up the number till some point\n",
    "n=int(input(\"Enter your limit:\"))\n",
    "start=0\n",
    "counter=1\n",
    "\n",
    "while counter <=n:\n",
    "    start=start+counter\n",
    "    counter=counter+1\n",
    "start"
   ]
  },
  {
   "cell_type": "code",
   "execution_count": 7,
   "id": "ee9a6ed9",
   "metadata": {},
   "outputs": [
    {
     "name": "stdout",
     "output_type": "stream",
     "text": [
      "Enter your number:3\n"
     ]
    },
    {
     "data": {
      "text/plain": [
       "6"
      ]
     },
     "execution_count": 7,
     "metadata": {},
     "output_type": "execute_result"
    }
   ],
   "source": [
    "#Factorial of a number\n",
    "num=int(input(\"Enter your number:\"))\n",
    "factorial=1\n",
    "while num>0:\n",
    "    factorial=factorial*num\n",
    "    num=num-1\n",
    "factorial"
   ]
  },
  {
   "cell_type": "code",
   "execution_count": 1,
   "id": "1246225f",
   "metadata": {},
   "outputs": [
    {
     "name": "stdout",
     "output_type": "stream",
     "text": [
      "Enter your number:5\n",
      "0\n",
      "1\n",
      "1\n",
      "2\n",
      "3\n"
     ]
    }
   ],
   "source": [
    "#Fibonacci Series\n",
    "num=int(input(\"Enter your number:\"))\n",
    "a,b=0,1\n",
    "counter=0\n",
    "while counter<num:\n",
    "    print(a)\n",
    "    c=a+b\n",
    "    a=b\n",
    "    b=c\n",
    "    counter=counter+1"
   ]
  },
  {
   "cell_type": "code",
   "execution_count": 3,
   "id": "66ff1afe",
   "metadata": {},
   "outputs": [
    {
     "name": "stdout",
     "output_type": "stream",
     "text": [
      "0\n",
      "1\n",
      "1\n",
      "2\n",
      "3\n",
      "5\n",
      "8\n",
      "13\n",
      "21\n",
      "34\n"
     ]
    }
   ],
   "source": [
    "a,b=0,1\n",
    "for i in range(10):\n",
    "      print(a)\n",
    "      c=a+b\n",
    "      a = b\n",
    "      b = c"
   ]
  },
  {
   "cell_type": "code",
   "execution_count": 4,
   "id": "10cdd666",
   "metadata": {},
   "outputs": [
    {
     "data": {
      "text/plain": [
       "'hdus'"
      ]
     },
     "execution_count": 4,
     "metadata": {},
     "output_type": "execute_result"
    }
   ],
   "source": [
    "s=\"sudh\"\n",
    "s[::-1]"
   ]
  },
  {
   "cell_type": "code",
   "execution_count": 10,
   "id": "0bcb71d2",
   "metadata": {},
   "outputs": [
    {
     "name": "stdout",
     "output_type": "stream",
     "text": [
      "Enter your string for reversal:rutvik\n"
     ]
    }
   ],
   "source": [
    "word=input(\"Enter your string for reversal:\")"
   ]
  },
  {
   "cell_type": "code",
   "execution_count": 11,
   "id": "5cac837c",
   "metadata": {},
   "outputs": [
    {
     "name": "stdout",
     "output_type": "stream",
     "text": [
      "kivtur\n"
     ]
    }
   ],
   "source": [
    "reverse=\"\"\n",
    "length=len(word)\n",
    "while length>0:\n",
    "    reverse=reverse+word[length-1]\n",
    "    length=length-1\n",
    "print(reverse)"
   ]
  },
  {
   "cell_type": "code",
   "execution_count": 14,
   "id": "b9c2b893",
   "metadata": {},
   "outputs": [
    {
     "name": "stdout",
     "output_type": "stream",
     "text": [
      "Enter the number:987\n",
      "987 * 1 = 987\n",
      "987 * 2 = 1974\n",
      "987 * 3 = 2961\n",
      "987 * 4 = 3948\n",
      "987 * 5 = 4935\n",
      "987 * 6 = 5922\n",
      "987 * 7 = 6909\n",
      "987 * 8 = 7896\n",
      "987 * 9 = 8883\n",
      "987 * 10 = 9870\n"
     ]
    }
   ],
   "source": [
    "#Print table of numbers\n",
    "num=int(input(\"Enter the number:\"))\n",
    "counter=1\n",
    "while counter<=10:\n",
    "    result=counter*num\n",
    "    print(num,\"*\",counter,\"=\",result)\n",
    "    counter=counter+1\n",
    "    "
   ]
  },
  {
   "cell_type": "code",
   "execution_count": 16,
   "id": "c423f882",
   "metadata": {},
   "outputs": [
    {
     "name": "stdout",
     "output_type": "stream",
     "text": [
      "1\n",
      "2\n",
      "3\n",
      "4\n",
      "This will be executed once your while will complete it successfully\n"
     ]
    }
   ],
   "source": [
    "n=5\n",
    "i=1\n",
    "while i<n:\n",
    "    print(i)\n",
    "    i=i+1\n",
    "else:\n",
    "    print(\"This will be executed once your while will complete it successfully\")"
   ]
  },
  {
   "cell_type": "code",
   "execution_count": 17,
   "id": "890479b3",
   "metadata": {},
   "outputs": [
    {
     "name": "stdout",
     "output_type": "stream",
     "text": [
      "1\n",
      "2\n",
      "3\n"
     ]
    }
   ],
   "source": [
    "n=5\n",
    "i=1\n",
    "while i<n:\n",
    "    print(i)\n",
    "    if i==3:\n",
    "        break\n",
    "    i=i+1\n",
    "else:\n",
    "    print(\"This will be executed once your while will complete it successfully\")"
   ]
  },
  {
   "cell_type": "code",
   "execution_count": null,
   "id": "42193a24",
   "metadata": {},
   "outputs": [],
   "source": []
  }
 ],
 "metadata": {
  "kernelspec": {
   "display_name": "Python 3 (ipykernel)",
   "language": "python",
   "name": "python3"
  },
  "language_info": {
   "codemirror_mode": {
    "name": "ipython",
    "version": 3
   },
   "file_extension": ".py",
   "mimetype": "text/x-python",
   "name": "python",
   "nbconvert_exporter": "python",
   "pygments_lexer": "ipython3",
   "version": "3.10.6"
  }
 },
 "nbformat": 4,
 "nbformat_minor": 5
}
