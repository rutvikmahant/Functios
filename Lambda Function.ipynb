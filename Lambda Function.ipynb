{
 "cells": [
  {
   "cell_type": "code",
   "execution_count": 1,
   "id": "662814b5-69a0-4186-9b6b-30fc8789c8c8",
   "metadata": {},
   "outputs": [],
   "source": [
    "n=3\n",
    "p=2"
   ]
  },
  {
   "cell_type": "code",
   "execution_count": 2,
   "id": "22c6a950-f4eb-4a09-81c5-f8c58cada845",
   "metadata": {},
   "outputs": [],
   "source": [
    "def test(n,p):\n",
    "    return n**p"
   ]
  },
  {
   "cell_type": "code",
   "execution_count": 3,
   "id": "057d1f31-ed88-497c-904f-17c6156e786f",
   "metadata": {},
   "outputs": [
    {
     "data": {
      "text/plain": [
       "9"
      ]
     },
     "execution_count": 3,
     "metadata": {},
     "output_type": "execute_result"
    }
   ],
   "source": [
    "test(3,2)"
   ]
  },
  {
   "cell_type": "code",
   "execution_count": 5,
   "id": "526c74e0-f0e9-4bca-9ab8-1c515a5dbd77",
   "metadata": {},
   "outputs": [],
   "source": [
    "a=lambda n, p:n**p"
   ]
  },
  {
   "cell_type": "code",
   "execution_count": 6,
   "id": "4a6a2a82-88cf-414f-b6ae-801545d8800d",
   "metadata": {},
   "outputs": [
    {
     "data": {
      "text/plain": [
       "9"
      ]
     },
     "execution_count": 6,
     "metadata": {},
     "output_type": "execute_result"
    }
   ],
   "source": [
    "a(3,2)"
   ]
  },
  {
   "cell_type": "code",
   "execution_count": 7,
   "id": "2e9f72eb-5b92-4d3d-8fd3-8caa09259e97",
   "metadata": {},
   "outputs": [],
   "source": [
    "add=lambda x,y:x+y"
   ]
  },
  {
   "cell_type": "code",
   "execution_count": 8,
   "id": "ae64365d-c159-4200-a341-f34ba82610ce",
   "metadata": {},
   "outputs": [
    {
     "data": {
      "text/plain": [
       "141"
      ]
     },
     "execution_count": 8,
     "metadata": {},
     "output_type": "execute_result"
    }
   ],
   "source": [
    "add(65,76)"
   ]
  },
  {
   "cell_type": "code",
   "execution_count": 11,
   "id": "381aa1f4-c015-47d4-93b4-37777cb30292",
   "metadata": {},
   "outputs": [],
   "source": [
    "#celsius to farhenheit conversion\n",
    "c_to_f=lambda c:(9/5)*c + 32"
   ]
  },
  {
   "cell_type": "code",
   "execution_count": 12,
   "id": "735fc79c-f50c-48e4-83aa-90bde5a4d4cf",
   "metadata": {},
   "outputs": [
    {
     "data": {
      "text/plain": [
       "113.0"
      ]
     },
     "execution_count": 12,
     "metadata": {},
     "output_type": "execute_result"
    }
   ],
   "source": [
    "c_to_f(45)"
   ]
  },
  {
   "cell_type": "code",
   "execution_count": 13,
   "id": "56267993-1d75-4bd4-841d-2b3fb156c4a4",
   "metadata": {},
   "outputs": [],
   "source": [
    "#finding max of two numbers using lambda function\n",
    "finding_max=lambda x,y: x if x>y else y"
   ]
  },
  {
   "cell_type": "code",
   "execution_count": 14,
   "id": "d33d2765-5324-42eb-93e7-1efee8d9806d",
   "metadata": {},
   "outputs": [
    {
     "data": {
      "text/plain": [
       "98"
      ]
     },
     "execution_count": 14,
     "metadata": {},
     "output_type": "execute_result"
    }
   ],
   "source": [
    "finding_max(65,98)"
   ]
  },
  {
   "cell_type": "code",
   "execution_count": null,
   "id": "b1dcd9de-9256-44c3-8088-1449f25aef2d",
   "metadata": {},
   "outputs": [],
   "source": []
  }
 ],
 "metadata": {
  "kernelspec": {
   "display_name": "Python 3 (ipykernel)",
   "language": "python",
   "name": "python3"
  },
  "language_info": {
   "codemirror_mode": {
    "name": "ipython",
    "version": 3
   },
   "file_extension": ".py",
   "mimetype": "text/x-python",
   "name": "python",
   "nbconvert_exporter": "python",
   "pygments_lexer": "ipython3",
   "version": "3.10.8"
  }
 },
 "nbformat": 4,
 "nbformat_minor": 5
}
