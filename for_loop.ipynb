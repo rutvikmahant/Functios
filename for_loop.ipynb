{
  "cells": [
    {
      "cell_type": "code",
      "execution_count": null,
      "id": "61c0c0fe-dad1-471c-b3cc-f630cd15b7eb",
      "metadata": {
        "id": "61c0c0fe-dad1-471c-b3cc-f630cd15b7eb"
      },
      "outputs": [],
      "source": [
        "l = [1,2,3,4,5]"
      ]
    },
    {
      "cell_type": "code",
      "execution_count": null,
      "id": "36adbe91-7631-4621-9c2f-412ab2038e8f",
      "metadata": {
        "id": "36adbe91-7631-4621-9c2f-412ab2038e8f",
        "outputId": "7a5b76b6-fc84-4d7e-dc77-99a842f8726d"
      },
      "outputs": [
        {
          "name": "stdout",
          "output_type": "stream",
          "text": [
            "1 <class 'int'>\n",
            "2 <class 'int'>\n",
            "3 <class 'int'>\n",
            "4 <class 'int'>\n",
            "5 <class 'int'>\n"
          ]
        }
      ],
      "source": [
        "for i in l :\n",
        "    print(i , type(i))"
      ]
    },
    {
      "cell_type": "code",
      "execution_count": null,
      "id": "f81bd053-ceda-482d-9551-f93ace56ac9f",
      "metadata": {
        "id": "f81bd053-ceda-482d-9551-f93ace56ac9f"
      },
      "outputs": [],
      "source": [
        "l1 = [\"sudh\" ,\"kumar\" , \"krish\" ,\"naik\"]"
      ]
    },
    {
      "cell_type": "code",
      "execution_count": null,
      "id": "86dff688-8865-446a-84af-5a53dc0f29a9",
      "metadata": {
        "id": "86dff688-8865-446a-84af-5a53dc0f29a9",
        "outputId": "9710cbe4-d870-4e70-b116-731a5b6b29b7"
      },
      "outputs": [
        {
          "name": "stdout",
          "output_type": "stream",
          "text": [
            "sudh\n",
            "kumar\n",
            "krish\n",
            "naik\n"
          ]
        }
      ],
      "source": [
        "for i in l1 :\n",
        "    print(i)\n"
      ]
    },
    {
      "cell_type": "code",
      "execution_count": null,
      "id": "7f1fd978-22bb-49ea-bd71-539adc6eaecc",
      "metadata": {
        "id": "7f1fd978-22bb-49ea-bd71-539adc6eaecc",
        "outputId": "4290a315-a0e5-45d5-d540-bcc51679c314"
      },
      "outputs": [
        {
          "data": {
            "text/plain": [
              "['sudh', 'kumar', 'krish', 'naik']"
            ]
          },
          "execution_count": 10,
          "metadata": {},
          "output_type": "execute_result"
        }
      ],
      "source": [
        "l1"
      ]
    },
    {
      "cell_type": "code",
      "execution_count": null,
      "id": "3a3681a4-b77d-480e-a12f-c7ec3eb021c0",
      "metadata": {
        "id": "3a3681a4-b77d-480e-a12f-c7ec3eb021c0",
        "outputId": "76717118-80d9-4807-d7e8-1885dc38c6ca"
      },
      "outputs": [
        {
          "name": "stdout",
          "output_type": "stream",
          "text": [
            "sudh\n",
            "kumar\n",
            "krish\n",
            "naik\n",
            "if for loop is able to complete itself then only else will execute\n"
          ]
        }
      ],
      "source": [
        "for i in l1 : \n",
        "    print(i)\n",
        "else :\n",
        "    print(\"if for loop is able to complete itself then only else will execute\")"
      ]
    },
    {
      "cell_type": "code",
      "execution_count": null,
      "id": "774f94d6-9638-4a28-80bf-d4923e1dc29e",
      "metadata": {
        "id": "774f94d6-9638-4a28-80bf-d4923e1dc29e",
        "outputId": "1739cf75-27c6-474e-de3b-609526538694"
      },
      "outputs": [
        {
          "data": {
            "text/plain": [
              "['sudh', 'kumar', 'krish', 'naik']"
            ]
          },
          "execution_count": 13,
          "metadata": {},
          "output_type": "execute_result"
        }
      ],
      "source": [
        "l1"
      ]
    },
    {
      "cell_type": "code",
      "execution_count": null,
      "id": "4d1d582c-c509-413b-91d1-5481a9f8d687",
      "metadata": {
        "id": "4d1d582c-c509-413b-91d1-5481a9f8d687",
        "outputId": "460341a1-16f0-4024-e7ac-005b311732d4"
      },
      "outputs": [
        {
          "name": "stdout",
          "output_type": "stream",
          "text": [
            "sudh\n"
          ]
        }
      ],
      "source": [
        "for i in l1:\n",
        "    if i == \"kumar\":\n",
        "        break\n",
        "    print(i)\n",
        "        "
      ]
    },
    {
      "cell_type": "code",
      "execution_count": null,
      "id": "a11c37ad-8bd5-4ab2-87f1-0c07b6c3f045",
      "metadata": {
        "id": "a11c37ad-8bd5-4ab2-87f1-0c07b6c3f045",
        "outputId": "cf728fa3-33c3-4c88-ce85-867c58fc43c7"
      },
      "outputs": [
        {
          "data": {
            "text/plain": [
              "['sudh', 'kumar', 'krish', 'naik']"
            ]
          },
          "execution_count": 15,
          "metadata": {},
          "output_type": "execute_result"
        }
      ],
      "source": [
        "l1"
      ]
    },
    {
      "cell_type": "code",
      "execution_count": null,
      "id": "466b2a7a-beef-4fd5-a8c7-106fa73e56f5",
      "metadata": {
        "id": "466b2a7a-beef-4fd5-a8c7-106fa73e56f5",
        "outputId": "79446e81-2bf4-4697-a8cc-c3aeffb1f818"
      },
      "outputs": [
        {
          "name": "stdout",
          "output_type": "stream",
          "text": [
            "sudh\n"
          ]
        }
      ],
      "source": [
        "for i in l1:\n",
        "    if i == \"kumar\":\n",
        "        break \n",
        "    print(i)\n",
        "else :\n",
        "    print(\"execute this if for loop is able to complete itself\")"
      ]
    },
    {
      "cell_type": "code",
      "execution_count": null,
      "id": "91d16041-e91b-40b8-a377-32e78abf5fcf",
      "metadata": {
        "id": "91d16041-e91b-40b8-a377-32e78abf5fcf",
        "outputId": "4771df0d-a1b4-4aa1-ec08-37adce145246"
      },
      "outputs": [
        {
          "data": {
            "text/plain": [
              "['sudh', 'kumar', 'krish', 'naik']"
            ]
          },
          "execution_count": 17,
          "metadata": {},
          "output_type": "execute_result"
        }
      ],
      "source": [
        "l1"
      ]
    },
    {
      "cell_type": "code",
      "execution_count": null,
      "id": "eb3c0977-664e-43e5-924e-a33772824222",
      "metadata": {
        "id": "eb3c0977-664e-43e5-924e-a33772824222",
        "outputId": "660b3b70-e28f-4fe7-969b-b7fe2a8d49a1"
      },
      "outputs": [
        {
          "name": "stdout",
          "output_type": "stream",
          "text": [
            "sudh\n",
            "krish\n",
            "naik\n"
          ]
        }
      ],
      "source": [
        "for i in l1 : \n",
        "    if i == \"kumar\":\n",
        "        continue\n",
        "    print(i)"
      ]
    },
    {
      "cell_type": "code",
      "execution_count": null,
      "id": "0751f70d-78c4-4806-82dd-7400ea0bfa82",
      "metadata": {
        "id": "0751f70d-78c4-4806-82dd-7400ea0bfa82",
        "outputId": "6b727835-9001-4822-f0e4-8b01f5f42f1f"
      },
      "outputs": [
        {
          "name": "stdout",
          "output_type": "stream",
          "text": [
            "sudh\n",
            "krish\n",
            "naik\n",
            "execute this if for loop is able to complete itself\n"
          ]
        }
      ],
      "source": [
        "for i in l1 : \n",
        "    if i == \"kumar\":\n",
        "        continue\n",
        "    print(i)\n",
        "else :\n",
        "    print(\"execute this if for loop is able to complete itself\")"
      ]
    },
    {
      "cell_type": "code",
      "execution_count": null,
      "id": "41d19505-d101-4b59-8dc6-f0748d1ee3c9",
      "metadata": {
        "id": "41d19505-d101-4b59-8dc6-f0748d1ee3c9",
        "outputId": "518c2859-8a0b-427a-fa13-a7f08fbb64d5"
      },
      "outputs": [
        {
          "data": {
            "text/plain": [
              "range(0, 5)"
            ]
          },
          "execution_count": 21,
          "metadata": {},
          "output_type": "execute_result"
        }
      ],
      "source": [
        "range(5)"
      ]
    },
    {
      "cell_type": "code",
      "execution_count": null,
      "id": "15871bd1-4b7f-4aa9-becb-0df024c8553f",
      "metadata": {
        "id": "15871bd1-4b7f-4aa9-becb-0df024c8553f",
        "outputId": "2bb017fa-594d-4539-886f-a64bc202f6a8"
      },
      "outputs": [
        {
          "data": {
            "text/plain": [
              "[0, 1, 2, 3, 4]"
            ]
          },
          "execution_count": 22,
          "metadata": {},
          "output_type": "execute_result"
        }
      ],
      "source": [
        "list(range(5))"
      ]
    },
    {
      "cell_type": "code",
      "execution_count": null,
      "id": "9c76d0a2-6722-431b-9a8b-6d420ae48432",
      "metadata": {
        "id": "9c76d0a2-6722-431b-9a8b-6d420ae48432",
        "outputId": "83c87126-458e-4c9d-f6ad-09a339dfb714"
      },
      "outputs": [
        {
          "data": {
            "text/plain": [
              "[0, 1, 2, 3, 4]"
            ]
          },
          "execution_count": 23,
          "metadata": {},
          "output_type": "execute_result"
        }
      ],
      "source": [
        "list(range(0,5,1))"
      ]
    },
    {
      "cell_type": "code",
      "execution_count": null,
      "id": "2a61d8ea-46c9-4f52-a3f6-5270412cae82",
      "metadata": {
        "id": "2a61d8ea-46c9-4f52-a3f6-5270412cae82",
        "outputId": "3e614808-579c-4a67-f286-85aec8d51d8f"
      },
      "outputs": [
        {
          "data": {
            "text/plain": [
              "[0, 2, 4, 6, 8, 10, 12, 14, 16, 18]"
            ]
          },
          "execution_count": 25,
          "metadata": {},
          "output_type": "execute_result"
        }
      ],
      "source": [
        "list(range(0,20 ,2))"
      ]
    },
    {
      "cell_type": "code",
      "execution_count": null,
      "id": "225ba803-5225-4985-a488-c3f81be5cd8f",
      "metadata": {
        "id": "225ba803-5225-4985-a488-c3f81be5cd8f",
        "outputId": "9dd6db10-8d38-48f1-88f9-d9874df61f1c"
      },
      "outputs": [
        {
          "data": {
            "text/plain": [
              "[-10, -9, -8, -7, -6, -5, -4, -3, -2, -1]"
            ]
          },
          "execution_count": 26,
          "metadata": {},
          "output_type": "execute_result"
        }
      ],
      "source": [
        "list(range(-10,0))"
      ]
    },
    {
      "cell_type": "code",
      "execution_count": null,
      "id": "8cece71a-d9f1-4b25-beac-104731e35e14",
      "metadata": {
        "id": "8cece71a-d9f1-4b25-beac-104731e35e14"
      },
      "outputs": [],
      "source": []
    },
    {
      "cell_type": "code",
      "execution_count": null,
      "id": "0d35965c-be67-4658-b2a6-3cf5f9c2429b",
      "metadata": {
        "id": "0d35965c-be67-4658-b2a6-3cf5f9c2429b",
        "outputId": "2e64e72b-9971-4f49-8e2f-46cb4dea974f"
      },
      "outputs": [
        {
          "data": {
            "text/plain": [
              "['sudh', 'kumar', 'krish', 'naik']"
            ]
          },
          "execution_count": 27,
          "metadata": {},
          "output_type": "execute_result"
        }
      ],
      "source": [
        "l1"
      ]
    },
    {
      "cell_type": "code",
      "execution_count": null,
      "id": "0e3877d5-67ca-44d0-b6fe-e5bf485a106b",
      "metadata": {
        "id": "0e3877d5-67ca-44d0-b6fe-e5bf485a106b",
        "outputId": "1fc961a2-e0c6-4eba-c922-27be5055c1a1"
      },
      "outputs": [
        {
          "data": {
            "text/plain": [
              "4"
            ]
          },
          "execution_count": 28,
          "metadata": {},
          "output_type": "execute_result"
        }
      ],
      "source": [
        "len(l1)"
      ]
    },
    {
      "cell_type": "code",
      "execution_count": null,
      "id": "68113916-5a1f-4994-9497-c471913b82ac",
      "metadata": {
        "id": "68113916-5a1f-4994-9497-c471913b82ac",
        "outputId": "2a4121cd-a74d-45d6-84ed-7ca157b85793"
      },
      "outputs": [
        {
          "data": {
            "text/plain": [
              "[0, 1, 2, 3]"
            ]
          },
          "execution_count": 29,
          "metadata": {},
          "output_type": "execute_result"
        }
      ],
      "source": [
        "list(range(len(l1)))"
      ]
    },
    {
      "cell_type": "code",
      "execution_count": null,
      "id": "a7657b00-9d9d-48e0-9674-4238e626a97c",
      "metadata": {
        "id": "a7657b00-9d9d-48e0-9674-4238e626a97c",
        "outputId": "cba155c7-c6d5-4b7f-f6f6-c9d78a8a9d23"
      },
      "outputs": [
        {
          "name": "stdout",
          "output_type": "stream",
          "text": [
            "sudh\n",
            "kumar\n",
            "krish\n",
            "naik\n"
          ]
        }
      ],
      "source": [
        "for i in range(len(l1)):\n",
        "    print(l1[i])"
      ]
    },
    {
      "cell_type": "code",
      "execution_count": null,
      "id": "7325ba76-d61a-46d0-b5a3-6692190465fa",
      "metadata": {
        "id": "7325ba76-d61a-46d0-b5a3-6692190465fa",
        "outputId": "4df426d3-5981-4a79-82d6-18050810b31b"
      },
      "outputs": [
        {
          "data": {
            "text/plain": [
              "4"
            ]
          },
          "execution_count": 31,
          "metadata": {},
          "output_type": "execute_result"
        }
      ],
      "source": [
        "len(l1)"
      ]
    },
    {
      "cell_type": "code",
      "execution_count": null,
      "id": "001f1cc9-71d1-4692-896b-8f3bafb2acfa",
      "metadata": {
        "id": "001f1cc9-71d1-4692-896b-8f3bafb2acfa",
        "outputId": "40da7368-ca68-4b9d-dac1-b915566b74ce"
      },
      "outputs": [
        {
          "data": {
            "text/plain": [
              "[3, 2, 1, 0]"
            ]
          },
          "execution_count": 38,
          "metadata": {},
          "output_type": "execute_result"
        }
      ],
      "source": [
        "list(range(len(l1)-1,-1,-1))"
      ]
    },
    {
      "cell_type": "code",
      "execution_count": null,
      "id": "5cd8a428-f500-484c-aadb-dd60d98dae02",
      "metadata": {
        "id": "5cd8a428-f500-484c-aadb-dd60d98dae02",
        "outputId": "5672d547-655a-42fc-c9f5-2efd2a2ff4b0"
      },
      "outputs": [
        {
          "data": {
            "text/plain": [
              "['sudh', 'kumar', 'krish', 'naik']"
            ]
          },
          "execution_count": 35,
          "metadata": {},
          "output_type": "execute_result"
        }
      ],
      "source": [
        "l1"
      ]
    },
    {
      "cell_type": "code",
      "execution_count": null,
      "id": "c14dcd5c-e994-4f7f-80b5-89a7b2d1de0a",
      "metadata": {
        "id": "c14dcd5c-e994-4f7f-80b5-89a7b2d1de0a",
        "outputId": "a754bdc2-a848-407a-acc2-9c31f833da54"
      },
      "outputs": [
        {
          "name": "stdout",
          "output_type": "stream",
          "text": [
            "naik\n",
            "krish\n",
            "kumar\n",
            "sudh\n"
          ]
        }
      ],
      "source": [
        "for i in range(len(l1)-1,-1,-1):\n",
        "    print(l1[i])"
      ]
    },
    {
      "cell_type": "code",
      "execution_count": null,
      "id": "5303b82e-85eb-4571-9d42-7e1b5ac40d22",
      "metadata": {
        "id": "5303b82e-85eb-4571-9d42-7e1b5ac40d22",
        "outputId": "4f49f952-365a-4163-fa4b-8d4746938c83"
      },
      "outputs": [
        {
          "name": "stdout",
          "output_type": "stream",
          "text": [
            "naik\n",
            "krish\n",
            "kumar\n",
            "sudh\n"
          ]
        }
      ],
      "source": [
        "for i in [3, 2, 1, 0]:\n",
        "    print(l1[i])"
      ]
    },
    {
      "cell_type": "code",
      "execution_count": null,
      "id": "b5d90574-7b9e-4473-94bb-e73391bc511f",
      "metadata": {
        "id": "b5d90574-7b9e-4473-94bb-e73391bc511f"
      },
      "outputs": [],
      "source": [
        "l2 = [23,5,45,56,6,67,67,78,87,8998,9,9,8]"
      ]
    },
    {
      "cell_type": "code",
      "execution_count": null,
      "id": "8fe13d35-4f7e-4549-a528-bd8fadb01bfa",
      "metadata": {
        "id": "8fe13d35-4f7e-4549-a528-bd8fadb01bfa",
        "outputId": "6924d799-3bb1-43f0-9c89-4d2154bfeb8a"
      },
      "outputs": [
        {
          "data": {
            "text/plain": [
              "[0, 2, 4, 6, 8, 10, 12]"
            ]
          },
          "execution_count": 42,
          "metadata": {},
          "output_type": "execute_result"
        }
      ],
      "source": [
        "list(range(0 ,len(l2) , 2))"
      ]
    },
    {
      "cell_type": "code",
      "execution_count": null,
      "id": "2c726164-89c2-49c5-aaab-7918252912ab",
      "metadata": {
        "id": "2c726164-89c2-49c5-aaab-7918252912ab",
        "outputId": "ba859167-8d7d-423e-9ede-ba4cea226a90"
      },
      "outputs": [
        {
          "name": "stdout",
          "output_type": "stream",
          "text": [
            "23\n",
            "45\n",
            "6\n",
            "67\n",
            "87\n",
            "9\n",
            "8\n"
          ]
        }
      ],
      "source": [
        "for i in range(0 ,len(l2) , 2) : \n",
        "    print(l2[i])"
      ]
    },
    {
      "cell_type": "code",
      "execution_count": null,
      "id": "1d4b276c-bce9-465b-b143-7474fadbaf0f",
      "metadata": {
        "id": "1d4b276c-bce9-465b-b143-7474fadbaf0f",
        "outputId": "5c34ea71-fbf2-44c8-c592-5ee69794b9b9"
      },
      "outputs": [
        {
          "data": {
            "text/plain": [
              "23"
            ]
          },
          "execution_count": 45,
          "metadata": {},
          "output_type": "execute_result"
        }
      ],
      "source": [
        "l2[0]"
      ]
    },
    {
      "cell_type": "code",
      "execution_count": null,
      "id": "f7332d7b-392c-430f-9225-80af3b8c970f",
      "metadata": {
        "id": "f7332d7b-392c-430f-9225-80af3b8c970f"
      },
      "outputs": [],
      "source": [
        "l = [1,2,3,4,7,8,98]"
      ]
    },
    {
      "cell_type": "code",
      "execution_count": null,
      "id": "47418d45-6553-4d98-84df-78f86967ee6d",
      "metadata": {
        "id": "47418d45-6553-4d98-84df-78f86967ee6d",
        "outputId": "c3d84ab3-6e93-492f-9e2a-e29e85f944ec"
      },
      "outputs": [
        {
          "data": {
            "text/plain": [
              "123"
            ]
          },
          "execution_count": 48,
          "metadata": {},
          "output_type": "execute_result"
        }
      ],
      "source": [
        "sum(l)"
      ]
    },
    {
      "cell_type": "code",
      "execution_count": null,
      "id": "5f0909f8-bc6b-4d46-ae83-b55cc12cd923",
      "metadata": {
        "id": "5f0909f8-bc6b-4d46-ae83-b55cc12cd923",
        "outputId": "53913c88-efe1-4d14-c845-cb9139d95ae4"
      },
      "outputs": [
        {
          "data": {
            "text/plain": [
              "123"
            ]
          },
          "execution_count": 49,
          "metadata": {},
          "output_type": "execute_result"
        }
      ],
      "source": [
        "result = 0\n",
        "for i in l :\n",
        "    result = result+ i \n",
        "result\n",
        "    "
      ]
    },
    {
      "cell_type": "code",
      "execution_count": null,
      "id": "fc27c54b-46ce-45cb-9193-8c78019836d8",
      "metadata": {
        "id": "fc27c54b-46ce-45cb-9193-8c78019836d8"
      },
      "outputs": [],
      "source": [
        "t = (1,2,3,4,4,5)"
      ]
    },
    {
      "cell_type": "code",
      "execution_count": null,
      "id": "00137278-4487-46df-ba7e-b1592af0ff3a",
      "metadata": {
        "id": "00137278-4487-46df-ba7e-b1592af0ff3a",
        "outputId": "b583ece3-00dc-4ec4-8ec8-0b2366c2cd53"
      },
      "outputs": [
        {
          "name": "stdout",
          "output_type": "stream",
          "text": [
            "1\n",
            "2\n",
            "3\n",
            "4\n",
            "4\n",
            "5\n"
          ]
        }
      ],
      "source": [
        "for i in t:\n",
        "    print(i)"
      ]
    },
    {
      "cell_type": "code",
      "execution_count": null,
      "id": "1d0d7574-09b0-4ccd-9750-51728ceb35bd",
      "metadata": {
        "id": "1d0d7574-09b0-4ccd-9750-51728ceb35bd",
        "outputId": "702e44f5-788e-49d2-862a-8cf57b653adb"
      },
      "outputs": [
        {
          "data": {
            "text/plain": [
              "19"
            ]
          },
          "execution_count": 52,
          "metadata": {},
          "output_type": "execute_result"
        }
      ],
      "source": [
        "result = 0\n",
        "for i in t :\n",
        "    result = result+ i \n",
        "result\n",
        "    "
      ]
    },
    {
      "cell_type": "code",
      "execution_count": null,
      "id": "bbecdc98-1de4-4489-811e-1c7a1680c5e6",
      "metadata": {
        "id": "bbecdc98-1de4-4489-811e-1c7a1680c5e6"
      },
      "outputs": [],
      "source": [
        "s = {1,2,3,4,5 ,\"sudh\" , \"pwskills\"}"
      ]
    },
    {
      "cell_type": "code",
      "execution_count": null,
      "id": "1fbf4670-acd9-4a3e-b203-f11f3abb9b6d",
      "metadata": {
        "id": "1fbf4670-acd9-4a3e-b203-f11f3abb9b6d",
        "outputId": "d8e6a3ff-8bf1-4d49-b1b3-f5de689672f4"
      },
      "outputs": [
        {
          "name": "stdout",
          "output_type": "stream",
          "text": [
            "1\n",
            "2\n",
            "3\n",
            "4\n",
            "5\n",
            "sudh\n",
            "pwskills\n"
          ]
        }
      ],
      "source": [
        "for i in s :\n",
        "    print(i)"
      ]
    },
    {
      "cell_type": "code",
      "execution_count": null,
      "id": "1410b7b3-9755-40c1-8974-4d43d6c2f662",
      "metadata": {
        "id": "1410b7b3-9755-40c1-8974-4d43d6c2f662"
      },
      "outputs": [],
      "source": [
        "s1 = \"pwskills\""
      ]
    },
    {
      "cell_type": "code",
      "execution_count": null,
      "id": "81dcd9e1-61f3-454e-b65e-6bc91c045bce",
      "metadata": {
        "id": "81dcd9e1-61f3-454e-b65e-6bc91c045bce",
        "outputId": "b074b156-8261-4ce8-e28c-8a46c56dddd8"
      },
      "outputs": [
        {
          "name": "stdout",
          "output_type": "stream",
          "text": [
            "p\n",
            "w\n",
            "s\n",
            "k\n",
            "i\n",
            "l\n",
            "l\n",
            "s\n"
          ]
        }
      ],
      "source": [
        "for i in s1 :\n",
        "    print(i)"
      ]
    },
    {
      "cell_type": "code",
      "execution_count": null,
      "id": "60f19d3c-c603-496e-a553-48163aafd44c",
      "metadata": {
        "id": "60f19d3c-c603-496e-a553-48163aafd44c"
      },
      "outputs": [],
      "source": [
        "d = {\"name\" : \"sudh\" , \"class\" : \"data scieince masters\" ,\n",
        "     \"topic\" : [\"python\",\"stats\",\"machine learning\",\"DL\",\"CV\" ,\"NLP\",\"resume\",\"interview\"]}"
      ]
    },
    {
      "cell_type": "code",
      "execution_count": null,
      "id": "1242b8bc-b7b6-4255-8515-a6202d174069",
      "metadata": {
        "id": "1242b8bc-b7b6-4255-8515-a6202d174069",
        "outputId": "27ab878f-4412-473b-a382-b31508ef5b97"
      },
      "outputs": [
        {
          "data": {
            "text/plain": [
              "{'name': 'sudh',\n",
              " 'class': 'data scieince masters',\n",
              " 'topic': ['python',\n",
              "  'stats',\n",
              "  'machine learning',\n",
              "  'DL',\n",
              "  'CV',\n",
              "  'NLP',\n",
              "  'resume',\n",
              "  'interview']}"
            ]
          },
          "execution_count": 58,
          "metadata": {},
          "output_type": "execute_result"
        }
      ],
      "source": [
        "d"
      ]
    },
    {
      "cell_type": "code",
      "execution_count": null,
      "id": "6e80bc87-bf62-4e62-895a-de80006633be",
      "metadata": {
        "id": "6e80bc87-bf62-4e62-895a-de80006633be",
        "outputId": "aad01fe0-cb02-4c71-b2f4-02cd01c8bd54"
      },
      "outputs": [
        {
          "data": {
            "text/plain": [
              "'sudh'"
            ]
          },
          "execution_count": 59,
          "metadata": {},
          "output_type": "execute_result"
        }
      ],
      "source": [
        "d['name']"
      ]
    },
    {
      "cell_type": "code",
      "execution_count": null,
      "id": "9f98c590-00bb-461f-b113-e4e51584cc40",
      "metadata": {
        "id": "9f98c590-00bb-461f-b113-e4e51584cc40",
        "outputId": "9c5fcf49-56dd-41ef-b4fc-7e0535c7c182"
      },
      "outputs": [
        {
          "data": {
            "text/plain": [
              "dict_keys(['name', 'class', 'topic'])"
            ]
          },
          "execution_count": 60,
          "metadata": {},
          "output_type": "execute_result"
        }
      ],
      "source": [
        "d.keys()"
      ]
    },
    {
      "cell_type": "code",
      "execution_count": null,
      "id": "5df4cbe7-ebde-49a2-a504-b69c672cb406",
      "metadata": {
        "id": "5df4cbe7-ebde-49a2-a504-b69c672cb406",
        "outputId": "404cc427-8238-4883-83df-a837d2106f4b"
      },
      "outputs": [
        {
          "name": "stdout",
          "output_type": "stream",
          "text": [
            "sudh\n",
            "data scieince masters\n",
            "['python', 'stats', 'machine learning', 'DL', 'CV', 'NLP', 'resume', 'interview']\n"
          ]
        }
      ],
      "source": [
        "for i in d.keys():\n",
        "    print(d[i])"
      ]
    },
    {
      "cell_type": "code",
      "execution_count": null,
      "id": "9cb9cb49-d66f-47f2-87d5-ebdccd83d857",
      "metadata": {
        "id": "9cb9cb49-d66f-47f2-87d5-ebdccd83d857",
        "outputId": "34eec931-ed31-4799-d910-1b39f0b3a0d6"
      },
      "outputs": [
        {
          "data": {
            "text/plain": [
              "dict_values(['sudh', 'data scieince masters', ['python', 'stats', 'machine learning', 'DL', 'CV', 'NLP', 'resume', 'interview']])"
            ]
          },
          "execution_count": 62,
          "metadata": {},
          "output_type": "execute_result"
        }
      ],
      "source": [
        "d.values()"
      ]
    },
    {
      "cell_type": "code",
      "execution_count": null,
      "id": "b48208fb-62bf-467f-8b55-050478be41a7",
      "metadata": {
        "id": "b48208fb-62bf-467f-8b55-050478be41a7",
        "outputId": "cf7dfa2d-b425-4014-99be-1eb48fe200d9"
      },
      "outputs": [
        {
          "name": "stdout",
          "output_type": "stream",
          "text": [
            "sudh\n",
            "data scieince masters\n",
            "['python', 'stats', 'machine learning', 'DL', 'CV', 'NLP', 'resume', 'interview']\n"
          ]
        }
      ],
      "source": [
        "for i in d.values():\n",
        "    print(i)"
      ]
    },
    {
      "cell_type": "code",
      "execution_count": null,
      "id": "387c330d-dbd3-475b-b04c-194fedf125cb",
      "metadata": {
        "id": "387c330d-dbd3-475b-b04c-194fedf125cb",
        "outputId": "ad915093-66e7-4835-eac4-86a6f38973f3"
      },
      "outputs": [
        {
          "data": {
            "text/plain": [
              "dict_items([('name', 'sudh'), ('class', 'data scieince masters'), ('topic', ['python', 'stats', 'machine learning', 'DL', 'CV', 'NLP', 'resume', 'interview'])])"
            ]
          },
          "execution_count": 64,
          "metadata": {},
          "output_type": "execute_result"
        }
      ],
      "source": [
        "d.items()"
      ]
    },
    {
      "cell_type": "code",
      "execution_count": null,
      "id": "eefe869d-e64d-449f-a514-8402049f33c1",
      "metadata": {
        "id": "eefe869d-e64d-449f-a514-8402049f33c1",
        "outputId": "a52710ba-6cda-4b2e-dec7-b149751540b2"
      },
      "outputs": [
        {
          "name": "stdout",
          "output_type": "stream",
          "text": [
            "('name', 'sudh')\n",
            "('class', 'data scieince masters')\n",
            "('topic', ['python', 'stats', 'machine learning', 'DL', 'CV', 'NLP', 'resume', 'interview'])\n"
          ]
        }
      ],
      "source": [
        "for i in d.items():\n",
        "    print(i)"
      ]
    },
    {
      "cell_type": "code",
      "execution_count": null,
      "id": "5293f67d-63d2-449d-8f02-dde3926b2a4b",
      "metadata": {
        "id": "5293f67d-63d2-449d-8f02-dde3926b2a4b"
      },
      "outputs": [],
      "source": []
    }
  ],
  "metadata": {
    "kernelspec": {
      "display_name": "Python 3 (ipykernel)",
      "language": "python",
      "name": "python3"
    },
    "language_info": {
      "codemirror_mode": {
        "name": "ipython",
        "version": 3
      },
      "file_extension": ".py",
      "mimetype": "text/x-python",
      "name": "python",
      "nbconvert_exporter": "python",
      "pygments_lexer": "ipython3",
      "version": "3.10.8"
    },
    "colab": {
      "provenance": []
    }
  },
  "nbformat": 4,
  "nbformat_minor": 5
}