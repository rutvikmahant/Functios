{
 "cells": [
  {
   "cell_type": "code",
   "execution_count": 1,
   "id": "913c70d8-79ed-41b5-8b47-47dc3424df6d",
   "metadata": {},
   "outputs": [],
   "source": [
    "a=\"pwskills\"\n"
   ]
  },
  {
   "cell_type": "code",
   "execution_count": 2,
   "id": "c42c30b8-0479-4840-bc7e-c7ab3ff37072",
   "metadata": {},
   "outputs": [
    {
     "data": {
      "text/plain": [
       "'k'"
      ]
     },
     "execution_count": 2,
     "metadata": {},
     "output_type": "execute_result"
    }
   ],
   "source": [
    "a[3]"
   ]
  },
  {
   "cell_type": "code",
   "execution_count": 3,
   "id": "1f480e83-7298-4006-b2a7-7c901a2a1b79",
   "metadata": {},
   "outputs": [
    {
     "data": {
      "text/plain": [
       "'s'"
      ]
     },
     "execution_count": 3,
     "metadata": {},
     "output_type": "execute_result"
    }
   ],
   "source": [
    "a[-1]"
   ]
  },
  {
   "cell_type": "code",
   "execution_count": 4,
   "id": "d8bccba3-45e9-40e2-8880-7e17f94d5e1b",
   "metadata": {},
   "outputs": [
    {
     "data": {
      "text/plain": [
       "8"
      ]
     },
     "execution_count": 4,
     "metadata": {},
     "output_type": "execute_result"
    }
   ],
   "source": [
    "5+3"
   ]
  },
  {
   "cell_type": "code",
   "execution_count": 6,
   "id": "23cbd99c-d5c2-43f0-8e24-f4424fd699d4",
   "metadata": {},
   "outputs": [
    {
     "data": {
      "text/plain": [
       "'pw'"
      ]
     },
     "execution_count": 6,
     "metadata": {},
     "output_type": "execute_result"
    }
   ],
   "source": [
    "a[:2]"
   ]
  },
  {
   "cell_type": "code",
   "execution_count": 8,
   "id": "93f904ad-3e44-4eed-8017-057c32e906a0",
   "metadata": {},
   "outputs": [
    {
     "data": {
      "text/plain": [
       "'pws'"
      ]
     },
     "execution_count": 8,
     "metadata": {},
     "output_type": "execute_result"
    }
   ],
   "source": [
    "a[:3]"
   ]
  },
  {
   "cell_type": "code",
   "execution_count": 9,
   "id": "c23a59d0-447a-4f20-be9e-4691fa32d70a",
   "metadata": {},
   "outputs": [],
   "source": [
    "a=\"Rutvik\"\n",
    "b=\"Mahant\""
   ]
  },
  {
   "cell_type": "code",
   "execution_count": 10,
   "id": "0552f4c9-5113-497c-a5bc-b6d16c827672",
   "metadata": {},
   "outputs": [
    {
     "data": {
      "text/plain": [
       "'RutvikMahant'"
      ]
     },
     "execution_count": 10,
     "metadata": {},
     "output_type": "execute_result"
    }
   ],
   "source": [
    "a+b"
   ]
  },
  {
   "cell_type": "code",
   "execution_count": 11,
   "id": "7e1d21c6-884b-4d02-882a-fe1a4fbb7dfa",
   "metadata": {},
   "outputs": [
    {
     "data": {
      "text/plain": [
       "'RutvikMahant'"
      ]
     },
     "execution_count": 11,
     "metadata": {},
     "output_type": "execute_result"
    }
   ],
   "source": [
    "a+ b"
   ]
  },
  {
   "cell_type": "code",
   "execution_count": 12,
   "id": "abeaa609-b62a-4403-bc58-8dd8d79a7be0",
   "metadata": {},
   "outputs": [],
   "source": [
    "a=8"
   ]
  },
  {
   "cell_type": "code",
   "execution_count": 14,
   "id": "a88dc19a-47d4-4a96-b221-af9ec5810d99",
   "metadata": {},
   "outputs": [
    {
     "data": {
      "text/plain": [
       "int"
      ]
     },
     "execution_count": 14,
     "metadata": {},
     "output_type": "execute_result"
    }
   ],
   "source": [
    "type(a)"
   ]
  },
  {
   "cell_type": "code",
   "execution_count": 15,
   "id": "4bf4b207-fdab-45bf-a564-597d2e9f5474",
   "metadata": {},
   "outputs": [
    {
     "data": {
      "text/plain": [
       "str"
      ]
     },
     "execution_count": 15,
     "metadata": {},
     "output_type": "execute_result"
    }
   ],
   "source": [
    "type(b)"
   ]
  },
  {
   "cell_type": "code",
   "execution_count": 17,
   "id": "a45dd9aa-3e1a-4eb3-aa1a-3a2f1c524ebd",
   "metadata": {},
   "outputs": [],
   "source": [
    "a=\"pwskills\"\n"
   ]
  },
  {
   "cell_type": "code",
   "execution_count": 19,
   "id": "1b0f0c66-74ef-4fd7-82f1-5f86b49d8990",
   "metadata": {},
   "outputs": [
    {
     "data": {
      "text/plain": [
       "'pwskills'"
      ]
     },
     "execution_count": 19,
     "metadata": {},
     "output_type": "execute_result"
    }
   ],
   "source": [
    "a[0:8:]"
   ]
  },
  {
   "cell_type": "code",
   "execution_count": 20,
   "id": "4ec20a03-ebb0-494d-9953-f4ce92b8f30d",
   "metadata": {},
   "outputs": [
    {
     "data": {
      "text/plain": [
       "'pwskills'"
      ]
     },
     "execution_count": 20,
     "metadata": {},
     "output_type": "execute_result"
    }
   ],
   "source": [
    "a[0:8:1]"
   ]
  },
  {
   "cell_type": "code",
   "execution_count": 21,
   "id": "085566d4-bda3-4dbd-be14-78ce76921d48",
   "metadata": {},
   "outputs": [
    {
     "data": {
      "text/plain": [
       "'pwskills'"
      ]
     },
     "execution_count": 21,
     "metadata": {},
     "output_type": "execute_result"
    }
   ],
   "source": [
    "a[::]"
   ]
  },
  {
   "cell_type": "code",
   "execution_count": 22,
   "id": "0a875f81-e10a-48ad-872a-af9c3ad620a7",
   "metadata": {},
   "outputs": [
    {
     "data": {
      "text/plain": [
       "'psil'"
      ]
     },
     "execution_count": 22,
     "metadata": {},
     "output_type": "execute_result"
    }
   ],
   "source": [
    "a[::2]"
   ]
  },
  {
   "cell_type": "code",
   "execution_count": 1,
   "id": "6863b7ac-25ee-4556-88d6-62ad0dc60054",
   "metadata": {},
   "outputs": [],
   "source": [
    "sudh=8+6j"
   ]
  },
  {
   "cell_type": "code",
   "execution_count": 2,
   "id": "ef73a71e-3b4c-48d0-ac72-30ab5fb99bb6",
   "metadata": {},
   "outputs": [
    {
     "data": {
      "text/plain": [
       "8.0"
      ]
     },
     "execution_count": 2,
     "metadata": {},
     "output_type": "execute_result"
    }
   ],
   "source": [
    "sudh.real"
   ]
  },
  {
   "cell_type": "code",
   "execution_count": 3,
   "id": "7f48cf7e-a11d-41ed-a6da-b9ff786bc9fa",
   "metadata": {},
   "outputs": [
    {
     "data": {
      "text/plain": [
       "6.0"
      ]
     },
     "execution_count": 3,
     "metadata": {},
     "output_type": "execute_result"
    }
   ],
   "source": [
    "sudh.imag"
   ]
  },
  {
   "cell_type": "code",
   "execution_count": 4,
   "id": "0e526277-ea1d-4a00-9652-ab6673b256e4",
   "metadata": {},
   "outputs": [
    {
     "name": "stdout",
     "output_type": "stream",
     "text": [
      "<class 'complex'>\n"
     ]
    }
   ],
   "source": [
    "print(type(sudh))"
   ]
  },
  {
   "cell_type": "code",
   "execution_count": 1,
   "id": "baf5b2fd-b709-4824-b12b-fbd386920c35",
   "metadata": {},
   "outputs": [
    {
     "name": "stdout",
     "output_type": "stream",
     "text": [
      "My name is Rutvik\n"
     ]
    }
   ],
   "source": [
    "print(\"My name is Rutvik\")"
   ]
  },
  {
   "cell_type": "code",
   "execution_count": null,
   "id": "74847663-190f-43a4-9ee7-3fe372f9ddf7",
   "metadata": {},
   "outputs": [],
   "source": []
  }
 ],
 "metadata": {
  "kernelspec": {
   "display_name": "Python 3 (ipykernel)",
   "language": "python",
   "name": "python3"
  },
  "language_info": {
   "codemirror_mode": {
    "name": "ipython",
    "version": 3
   },
   "file_extension": ".py",
   "mimetype": "text/x-python",
   "name": "python",
   "nbconvert_exporter": "python",
   "pygments_lexer": "ipython3",
   "version": "3.10.8"
  }
 },
 "nbformat": 4,
 "nbformat_minor": 5
}
