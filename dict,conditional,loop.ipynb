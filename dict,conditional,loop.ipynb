{
  "cells": [
    {
      "cell_type": "code",
      "execution_count": null,
      "id": "d3bc59a8-1cc1-4f97-9a11-337529dde45a",
      "metadata": {
        "id": "d3bc59a8-1cc1-4f97-9a11-337529dde45a"
      },
      "outputs": [],
      "source": [
        "d = {}"
      ]
    },
    {
      "cell_type": "code",
      "execution_count": null,
      "id": "9c4e1cc8-948f-4630-8e4c-689a196672bf",
      "metadata": {
        "id": "9c4e1cc8-948f-4630-8e4c-689a196672bf",
        "outputId": "a9fab8f6-0dae-47f6-fd11-3940e6ce0c2e"
      },
      "outputs": [
        {
          "data": {
            "text/plain": [
              "dict"
            ]
          },
          "execution_count": 3,
          "metadata": {},
          "output_type": "execute_result"
        }
      ],
      "source": [
        "type(d)"
      ]
    },
    {
      "cell_type": "code",
      "execution_count": null,
      "id": "15439b41-f222-48e7-87cf-0fdc439d5483",
      "metadata": {
        "id": "15439b41-f222-48e7-87cf-0fdc439d5483"
      },
      "outputs": [],
      "source": [
        "d1 = {'key' : \"sudh\"}"
      ]
    },
    {
      "cell_type": "code",
      "execution_count": null,
      "id": "e0052ccd-92c9-42d5-8152-5d3e3d7da393",
      "metadata": {
        "id": "e0052ccd-92c9-42d5-8152-5d3e3d7da393",
        "outputId": "f9cea254-21f8-448c-a742-47e1e5960a11"
      },
      "outputs": [
        {
          "data": {
            "text/plain": [
              "{'key': 'sudh'}"
            ]
          },
          "execution_count": 5,
          "metadata": {},
          "output_type": "execute_result"
        }
      ],
      "source": [
        "d1"
      ]
    },
    {
      "cell_type": "code",
      "execution_count": null,
      "id": "b9816072-25a2-4556-ae7e-a8f8a6f189b8",
      "metadata": {
        "id": "b9816072-25a2-4556-ae7e-a8f8a6f189b8"
      },
      "outputs": [],
      "source": [
        "d2 = {'name' : \"sudhanshu\" , \"email\" : \"ss@gmail.com\", \"number\" : 334534}"
      ]
    },
    {
      "cell_type": "code",
      "execution_count": null,
      "id": "c139ef00-3548-4a29-b041-1c2ba9b3db2f",
      "metadata": {
        "id": "c139ef00-3548-4a29-b041-1c2ba9b3db2f",
        "outputId": "c2a0d72d-412a-4f4b-93f4-1e5f4878ea73"
      },
      "outputs": [
        {
          "data": {
            "text/plain": [
              "{'name': 'sudhanshu', 'email': 'ss@gmail.com', 'number': 334534}"
            ]
          },
          "execution_count": 7,
          "metadata": {},
          "output_type": "execute_result"
        }
      ],
      "source": [
        "d2"
      ]
    },
    {
      "cell_type": "code",
      "execution_count": null,
      "id": "d40e089b-4763-42d9-9a65-f0fb5489b8f4",
      "metadata": {
        "id": "d40e089b-4763-42d9-9a65-f0fb5489b8f4"
      },
      "outputs": [],
      "source": [
        "d3 = {234 : \"sudh\" , '_wer' : \"kumar\",True :24234}"
      ]
    },
    {
      "cell_type": "code",
      "execution_count": null,
      "id": "5b03eeb2-baa8-4051-ba80-e5729db0d8b0",
      "metadata": {
        "id": "5b03eeb2-baa8-4051-ba80-e5729db0d8b0",
        "outputId": "612a975a-73e0-44e3-dc34-06eb7828a75c"
      },
      "outputs": [
        {
          "data": {
            "text/plain": [
              "{234: 'sudh', '_wer': 'kumar', True: 24234}"
            ]
          },
          "execution_count": 14,
          "metadata": {},
          "output_type": "execute_result"
        }
      ],
      "source": [
        "d3"
      ]
    },
    {
      "cell_type": "code",
      "execution_count": null,
      "id": "d239b7c7-b9dc-4714-b063-2fb7ace1fd3d",
      "metadata": {
        "id": "d239b7c7-b9dc-4714-b063-2fb7ace1fd3d",
        "outputId": "7cb1638d-59b5-4201-9e9e-2ebf05c8e06b"
      },
      "outputs": [
        {
          "data": {
            "text/plain": [
              "'sudh'"
            ]
          },
          "execution_count": 15,
          "metadata": {},
          "output_type": "execute_result"
        }
      ],
      "source": [
        "d3[234]"
      ]
    },
    {
      "cell_type": "code",
      "execution_count": null,
      "id": "20f1ccaa-319f-4a79-ac54-b78cdcf97b65",
      "metadata": {
        "id": "20f1ccaa-319f-4a79-ac54-b78cdcf97b65",
        "outputId": "e59a2bbc-d9aa-470c-dba1-56318e1b56c5"
      },
      "outputs": [
        {
          "data": {
            "text/plain": [
              "24234"
            ]
          },
          "execution_count": 16,
          "metadata": {},
          "output_type": "execute_result"
        }
      ],
      "source": [
        "d3[True]"
      ]
    },
    {
      "cell_type": "code",
      "execution_count": null,
      "id": "06cc2d90-a745-4b78-b5ee-99c5433222be",
      "metadata": {
        "id": "06cc2d90-a745-4b78-b5ee-99c5433222be",
        "outputId": "4200c31c-2517-46f3-a3bf-83c34b62e549"
      },
      "outputs": [
        {
          "data": {
            "text/plain": [
              "24234"
            ]
          },
          "execution_count": 17,
          "metadata": {},
          "output_type": "execute_result"
        }
      ],
      "source": [
        "d3[1]"
      ]
    },
    {
      "cell_type": "code",
      "execution_count": null,
      "id": "8bbc4c68-fa4d-4ebb-9566-f29e7d50d4f3",
      "metadata": {
        "id": "8bbc4c68-fa4d-4ebb-9566-f29e7d50d4f3"
      },
      "outputs": [],
      "source": [
        "d4 = {'name':\"sudh\" , 'mail_id' :\"ss@gmail.com\" ,\"name\":\"sudhanshu\"}"
      ]
    },
    {
      "cell_type": "code",
      "execution_count": null,
      "id": "56f003f4-0639-4670-a545-e82168f8f299",
      "metadata": {
        "id": "56f003f4-0639-4670-a545-e82168f8f299",
        "outputId": "a65b3063-2526-4956-de77-6414b81af5e7"
      },
      "outputs": [
        {
          "data": {
            "text/plain": [
              "'sudhanshu'"
            ]
          },
          "execution_count": 20,
          "metadata": {},
          "output_type": "execute_result"
        }
      ],
      "source": [
        "d4['name']"
      ]
    },
    {
      "cell_type": "code",
      "execution_count": null,
      "id": "bb6d3237-d93b-48ab-ac2b-8aaba7d5e6c7",
      "metadata": {
        "id": "bb6d3237-d93b-48ab-ac2b-8aaba7d5e6c7"
      },
      "outputs": [],
      "source": [
        "d5 ={\"company\" : \"pwskills\" , \"course\" :[\"web dev\" , \"data science \" , \"java with dsa system design\"]}"
      ]
    },
    {
      "cell_type": "code",
      "execution_count": null,
      "id": "b02c0815-4b95-4b09-8479-4b63051c77d6",
      "metadata": {
        "id": "b02c0815-4b95-4b09-8479-4b63051c77d6",
        "outputId": "da9c7f8f-1411-4cd9-8e1c-311bbf8e7254"
      },
      "outputs": [
        {
          "data": {
            "text/plain": [
              "{'company': 'pwskills',\n",
              " 'course': ['web dev', 'data science ', 'java with dsa system design']}"
            ]
          },
          "execution_count": 22,
          "metadata": {},
          "output_type": "execute_result"
        }
      ],
      "source": [
        "d5 "
      ]
    },
    {
      "cell_type": "code",
      "execution_count": null,
      "id": "db8355ef-a2ca-48b5-8785-a8da7639aa9b",
      "metadata": {
        "id": "db8355ef-a2ca-48b5-8785-a8da7639aa9b",
        "outputId": "a6c085a1-58ff-4fbd-8a83-9d775ff20f06"
      },
      "outputs": [
        {
          "data": {
            "text/plain": [
              "['web dev', 'data science ', 'java with dsa system design']"
            ]
          },
          "execution_count": 23,
          "metadata": {},
          "output_type": "execute_result"
        }
      ],
      "source": [
        "d5['course']"
      ]
    },
    {
      "cell_type": "code",
      "execution_count": null,
      "id": "d702ed13-a5db-4c83-99ae-30d2d275f6a7",
      "metadata": {
        "id": "d702ed13-a5db-4c83-99ae-30d2d275f6a7",
        "outputId": "cffb3f6e-d522-4856-ba6e-ea41a50a6111"
      },
      "outputs": [
        {
          "data": {
            "text/plain": [
              "'java with dsa system design'"
            ]
          },
          "execution_count": 24,
          "metadata": {},
          "output_type": "execute_result"
        }
      ],
      "source": [
        "d5['course'][2]"
      ]
    },
    {
      "cell_type": "code",
      "execution_count": null,
      "id": "6c81af66-5eae-4d04-9d63-26db91b7f1f9",
      "metadata": {
        "id": "6c81af66-5eae-4d04-9d63-26db91b7f1f9"
      },
      "outputs": [],
      "source": [
        "d6 = {\"number\" : [2,34,3,34,34],\"assignment\":(1,2,3,4,5,6) , \"launch_date\":{28,12,14} ,\"class_time\":{\"web_dev\": 8 , \"Data science masters\" : 8 , \"java with dsa and system design\":7}}"
      ]
    },
    {
      "cell_type": "code",
      "execution_count": null,
      "id": "dcdcc28b-1783-4d52-a153-93170a8f27b1",
      "metadata": {
        "id": "dcdcc28b-1783-4d52-a153-93170a8f27b1"
      },
      "outputs": [],
      "source": []
    },
    {
      "cell_type": "code",
      "execution_count": null,
      "id": "ad8ca77d-299d-4105-a367-60f18a8c1f9c",
      "metadata": {
        "id": "ad8ca77d-299d-4105-a367-60f18a8c1f9c",
        "outputId": "9c53b5f9-420a-4264-8b47-5763064ed109"
      },
      "outputs": [
        {
          "data": {
            "text/plain": [
              "{'number': [2, 34, 3, 34, 34],\n",
              " 'assignment': (1, 2, 3, 4, 5, 6),\n",
              " 'launch_date': {12, 14, 28},\n",
              " 'class_time': {'web_dev': 8,\n",
              "  'Data science masters': 8,\n",
              "  'java with dsa and system design': 7}}"
            ]
          },
          "execution_count": 28,
          "metadata": {},
          "output_type": "execute_result"
        }
      ],
      "source": [
        "d6"
      ]
    },
    {
      "cell_type": "code",
      "execution_count": null,
      "id": "5750a3b2-1e34-4d33-98b4-865a53484c4f",
      "metadata": {
        "id": "5750a3b2-1e34-4d33-98b4-865a53484c4f",
        "outputId": "265e0f55-8991-4328-c90f-4d83e034a1b4"
      },
      "outputs": [
        {
          "data": {
            "text/plain": [
              "7"
            ]
          },
          "execution_count": 30,
          "metadata": {},
          "output_type": "execute_result"
        }
      ],
      "source": [
        "d6['class_time']['java with dsa and system design']"
      ]
    },
    {
      "cell_type": "code",
      "execution_count": null,
      "id": "d06f2b52-dcef-46c3-b341-60230734f23d",
      "metadata": {
        "id": "d06f2b52-dcef-46c3-b341-60230734f23d",
        "outputId": "dca27ff1-133a-45e1-a80f-f6ac1e516bcb"
      },
      "outputs": [
        {
          "data": {
            "text/plain": [
              "{'number': [2, 34, 3, 34, 34],\n",
              " 'assignment': (1, 2, 3, 4, 5, 6),\n",
              " 'launch_date': {12, 14, 28},\n",
              " 'class_time': {'web_dev': 8,\n",
              "  'Data science masters': 8,\n",
              "  'java with dsa and system design': 7}}"
            ]
          },
          "execution_count": 31,
          "metadata": {},
          "output_type": "execute_result"
        }
      ],
      "source": [
        "d6"
      ]
    },
    {
      "cell_type": "code",
      "execution_count": null,
      "id": "52447cf1-a055-4f8c-bb2f-26803d932dfd",
      "metadata": {
        "id": "52447cf1-a055-4f8c-bb2f-26803d932dfd"
      },
      "outputs": [],
      "source": [
        "d6['mentor'] = [\"sudhanshu\",\"krish\",\"anurag\" , \"hayder\"]"
      ]
    },
    {
      "cell_type": "code",
      "execution_count": null,
      "id": "8f48b7d0-7b5c-43d3-87ee-b87b5de3596f",
      "metadata": {
        "id": "8f48b7d0-7b5c-43d3-87ee-b87b5de3596f",
        "outputId": "06ed8456-8c83-46c7-e451-b5c36942e3ed"
      },
      "outputs": [
        {
          "data": {
            "text/plain": [
              "{'number': [2, 34, 3, 34, 34],\n",
              " 'assignment': (1, 2, 3, 4, 5, 6),\n",
              " 'launch_date': {12, 14, 28},\n",
              " 'class_time': {'web_dev': 8,\n",
              "  'Data science masters': 8,\n",
              "  'java with dsa and system design': 7},\n",
              " 'mentor': ['sudhanshu', 'krish', 'anurag', 'hayder']}"
            ]
          },
          "execution_count": 33,
          "metadata": {},
          "output_type": "execute_result"
        }
      ],
      "source": [
        "d6"
      ]
    },
    {
      "cell_type": "code",
      "execution_count": null,
      "id": "bc79fbe3-af96-4aaf-9e22-216e0967e937",
      "metadata": {
        "id": "bc79fbe3-af96-4aaf-9e22-216e0967e937"
      },
      "outputs": [],
      "source": [
        "del d6['number']"
      ]
    },
    {
      "cell_type": "code",
      "execution_count": null,
      "id": "ff209f7f-7e61-40ae-b9f2-3534c817f571",
      "metadata": {
        "id": "ff209f7f-7e61-40ae-b9f2-3534c817f571",
        "outputId": "6cc24b33-0841-41a5-ecbd-5b56184f3949"
      },
      "outputs": [
        {
          "data": {
            "text/plain": [
              "{'assignment': (1, 2, 3, 4, 5, 6),\n",
              " 'launch_date': {12, 14, 28},\n",
              " 'class_time': {'web_dev': 8,\n",
              "  'Data science masters': 8,\n",
              "  'java with dsa and system design': 7},\n",
              " 'mentor': ['sudhanshu', 'krish', 'anurag', 'hayder']}"
            ]
          },
          "execution_count": 35,
          "metadata": {},
          "output_type": "execute_result"
        }
      ],
      "source": [
        "d6"
      ]
    },
    {
      "cell_type": "code",
      "execution_count": null,
      "id": "b63cead9-5ee4-447a-a880-0f741d357d18",
      "metadata": {
        "id": "b63cead9-5ee4-447a-a880-0f741d357d18",
        "outputId": "1e1bde76-a451-49a3-94ff-4fe70d72e6a9"
      },
      "outputs": [
        {
          "data": {
            "text/plain": [
              "['assignment', 'launch_date', 'class_time', 'mentor']"
            ]
          },
          "execution_count": 37,
          "metadata": {},
          "output_type": "execute_result"
        }
      ],
      "source": [
        "list(d6.keys())"
      ]
    },
    {
      "cell_type": "code",
      "execution_count": null,
      "id": "69e8cc8e-86d8-4317-9e0b-d336ee4795ce",
      "metadata": {
        "id": "69e8cc8e-86d8-4317-9e0b-d336ee4795ce",
        "outputId": "38e87774-f0f3-47a2-eee8-2c46c715ca84"
      },
      "outputs": [
        {
          "data": {
            "text/plain": [
              "[(1, 2, 3, 4, 5, 6),\n",
              " {12, 14, 28},\n",
              " {'web_dev': 8,\n",
              "  'Data science masters': 8,\n",
              "  'java with dsa and system design': 7},\n",
              " ['sudhanshu', 'krish', 'anurag', 'hayder']]"
            ]
          },
          "execution_count": 39,
          "metadata": {},
          "output_type": "execute_result"
        }
      ],
      "source": [
        "list(d6.values())"
      ]
    },
    {
      "cell_type": "code",
      "execution_count": null,
      "id": "c467ed3e-8e45-43a2-b3fb-b4792d6a6e86",
      "metadata": {
        "id": "c467ed3e-8e45-43a2-b3fb-b4792d6a6e86",
        "outputId": "a62d1619-8bd4-428c-e8bb-f564bc0ac439"
      },
      "outputs": [
        {
          "data": {
            "text/plain": [
              "[('assignment', (1, 2, 3, 4, 5, 6)),\n",
              " ('launch_date', {12, 14, 28}),\n",
              " ('class_time',\n",
              "  {'web_dev': 8,\n",
              "   'Data science masters': 8,\n",
              "   'java with dsa and system design': 7}),\n",
              " ('mentor', ['sudhanshu', 'krish', 'anurag', 'hayder'])]"
            ]
          },
          "execution_count": 41,
          "metadata": {},
          "output_type": "execute_result"
        }
      ],
      "source": [
        "list(d6.items())"
      ]
    },
    {
      "cell_type": "code",
      "execution_count": null,
      "id": "6bb5b908-b598-4e51-a301-ca7679987ff6",
      "metadata": {
        "id": "6bb5b908-b598-4e51-a301-ca7679987ff6",
        "outputId": "86da882e-6835-4cf2-a7f1-d2940ad5a011"
      },
      "outputs": [
        {
          "data": {
            "text/plain": [
              "(1, 2, 3, 4, 5, 6)"
            ]
          },
          "execution_count": 42,
          "metadata": {},
          "output_type": "execute_result"
        }
      ],
      "source": [
        "d6.pop('assignment')"
      ]
    },
    {
      "cell_type": "code",
      "execution_count": null,
      "id": "db1e47f4-3a3b-4ea9-9822-4245c95b913e",
      "metadata": {
        "id": "db1e47f4-3a3b-4ea9-9822-4245c95b913e",
        "outputId": "e6abbca3-1c9f-4cef-d90d-63f175acf8bd"
      },
      "outputs": [
        {
          "data": {
            "text/plain": [
              "{'launch_date': {12, 14, 28},\n",
              " 'class_time': {'web_dev': 8,\n",
              "  'Data science masters': 8,\n",
              "  'java with dsa and system design': 7},\n",
              " 'mentor': ['sudhanshu', 'krish', 'anurag', 'hayder']}"
            ]
          },
          "execution_count": 43,
          "metadata": {},
          "output_type": "execute_result"
        }
      ],
      "source": [
        "d6"
      ]
    },
    {
      "cell_type": "code",
      "execution_count": null,
      "id": "10fdb38c-3a46-48f4-b8d1-15a72d353ce5",
      "metadata": {
        "id": "10fdb38c-3a46-48f4-b8d1-15a72d353ce5",
        "outputId": "8fa86224-5692-4410-a577-71a5ac73f26f"
      },
      "outputs": [
        {
          "ename": "TypeError",
          "evalue": "pop expected at least 1 argument, got 0",
          "output_type": "error",
          "traceback": [
            "\u001b[0;31m---------------------------------------------------------------------------\u001b[0m",
            "\u001b[0;31mTypeError\u001b[0m                                 Traceback (most recent call last)",
            "Cell \u001b[0;32mIn[46], line 1\u001b[0m\n\u001b[0;32m----> 1\u001b[0m \u001b[43md6\u001b[49m\u001b[38;5;241;43m.\u001b[39;49m\u001b[43mpop\u001b[49m\u001b[43m(\u001b[49m\u001b[43m)\u001b[49m\n",
            "\u001b[0;31mTypeError\u001b[0m: pop expected at least 1 argument, got 0"
          ]
        }
      ],
      "source": [
        "d6.pop()"
      ]
    },
    {
      "cell_type": "code",
      "execution_count": null,
      "id": "f46f8e48-f159-479b-bee6-33abe93a7ebf",
      "metadata": {
        "id": "f46f8e48-f159-479b-bee6-33abe93a7ebf",
        "outputId": "39ab5794-ddde-404e-ad22-284e9e4f734c"
      },
      "outputs": [
        {
          "name": "stdin",
          "output_type": "stream",
          "text": [
            "enter your marks  90\n"
          ]
        },
        {
          "name": "stdout",
          "output_type": "stream",
          "text": [
            "you will be a part of A0 batch\n"
          ]
        }
      ],
      "source": [
        "marks = int(input(\"enter your marks \"))\n",
        "if marks >= 80:\n",
        "    print(\"you will be a part of A0 batch\")\n",
        "elif marks >= 60 and marks< 80:\n",
        "    print(\"you will be a part of A1 batch\")\n",
        "elif marks >= 40 and marks < 60 :\n",
        "    print(\"you will be a part of A2 batch \")\n",
        "else :\n",
        "    print(\"you will be a part of A3 batch \")\n",
        "    \n",
        "    "
      ]
    },
    {
      "cell_type": "code",
      "execution_count": null,
      "id": "945fa0a0-d575-4001-996b-7cb2cd8d7b0d",
      "metadata": {
        "id": "945fa0a0-d575-4001-996b-7cb2cd8d7b0d",
        "outputId": "4126f343-f2b4-4753-d1fc-5bd3259fb777"
      },
      "outputs": [
        {
          "data": {
            "text/plain": [
              "False"
            ]
          },
          "execution_count": 55,
          "metadata": {},
          "output_type": "execute_result"
        }
      ],
      "source": [
        "10 >= 80"
      ]
    },
    {
      "cell_type": "code",
      "execution_count": null,
      "id": "bcc043c7-c706-4009-b659-3d973bdebeeb",
      "metadata": {
        "id": "bcc043c7-c706-4009-b659-3d973bdebeeb",
        "outputId": "232241fc-d2a0-4e8a-c353-3a2fb520e928"
      },
      "outputs": [
        {
          "name": "stdin",
          "output_type": "stream",
          "text": [
            "enter your marks  324\n"
          ]
        }
      ],
      "source": [
        "marks = int(input(\"enter your marks \"))"
      ]
    },
    {
      "cell_type": "code",
      "execution_count": null,
      "id": "5c627e2d-6113-4255-b639-1dfba3303d47",
      "metadata": {
        "id": "5c627e2d-6113-4255-b639-1dfba3303d47",
        "outputId": "d75f0927-ab45-4b1f-afd1-c2c4adac94e0"
      },
      "outputs": [
        {
          "data": {
            "text/plain": [
              "324"
            ]
          },
          "execution_count": 64,
          "metadata": {},
          "output_type": "execute_result"
        }
      ],
      "source": [
        "marks"
      ]
    },
    {
      "cell_type": "code",
      "execution_count": null,
      "id": "e96d8057-64e3-4961-b26c-0b5b871bb341",
      "metadata": {
        "id": "e96d8057-64e3-4961-b26c-0b5b871bb341",
        "outputId": "2a3a422f-a926-4809-d917-7b439eddaf5a"
      },
      "outputs": [
        {
          "data": {
            "text/plain": [
              "int"
            ]
          },
          "execution_count": 65,
          "metadata": {},
          "output_type": "execute_result"
        }
      ],
      "source": [
        "type(marks)"
      ]
    },
    {
      "cell_type": "code",
      "execution_count": null,
      "id": "253159d0-2c21-4017-a631-dcfb58233ab9",
      "metadata": {
        "id": "253159d0-2c21-4017-a631-dcfb58233ab9",
        "outputId": "bf60f6f2-bc3d-4596-fea7-ce8513dee82f"
      },
      "outputs": [
        {
          "name": "stdin",
          "output_type": "stream",
          "text": [
            "enter price  500\n"
          ]
        },
        {
          "name": "stdout",
          "output_type": "stream",
          "text": [
            "i will purchase\n"
          ]
        }
      ],
      "source": [
        "price = int(input(\"enter price \" ))\n",
        "if price > 1000:\n",
        "    print(\"i will not purchase\")\n",
        "else :\n",
        "    print(\"i will purchase\")"
      ]
    },
    {
      "cell_type": "code",
      "execution_count": null,
      "id": "628ed574-e92a-4b12-94f2-5cabf74e9e59",
      "metadata": {
        "id": "628ed574-e92a-4b12-94f2-5cabf74e9e59",
        "outputId": "6a739f14-ac08-4eff-975c-37437d9d2af2"
      },
      "outputs": [
        {
          "name": "stdin",
          "output_type": "stream",
          "text": [
            "enter price  600\n"
          ]
        },
        {
          "name": "stdout",
          "output_type": "stream",
          "text": [
            "i will purchase\n"
          ]
        }
      ],
      "source": [
        "price = int(input(\"enter price \" ))\n",
        "if price > 1000:\n",
        "    print(\"i will not purchase\")\n",
        "    if price >5000:\n",
        "        print(\"this is too much \")\n",
        "    elif price < 2000 : \n",
        "        print(\"its ok\")\n",
        "elif price < 1000 or price > 500 :\n",
        "    print(\"i will purchase\")\n",
        "else :\n",
        "    print(\"not interested \")"
      ]
    },
    {
      "cell_type": "code",
      "execution_count": null,
      "id": "6c51f7e7-a567-4288-89c4-9b8bf30e7498",
      "metadata": {
        "id": "6c51f7e7-a567-4288-89c4-9b8bf30e7498"
      },
      "outputs": [],
      "source": [
        "l = [1,2,3,3,4,5,6,7,8]"
      ]
    },
    {
      "cell_type": "code",
      "execution_count": null,
      "id": "8dbcc218-0212-4f51-9bf8-59f69c731ef9",
      "metadata": {
        "id": "8dbcc218-0212-4f51-9bf8-59f69c731ef9",
        "outputId": "6c54039b-bacf-4657-f686-0da6a19fd940"
      },
      "outputs": [
        {
          "data": {
            "text/plain": [
              "2"
            ]
          },
          "execution_count": 77,
          "metadata": {},
          "output_type": "execute_result"
        }
      ],
      "source": [
        "l[0] +1"
      ]
    },
    {
      "cell_type": "code",
      "execution_count": null,
      "id": "55938e22-4927-492c-8e91-f60b7871659f",
      "metadata": {
        "id": "55938e22-4927-492c-8e91-f60b7871659f"
      },
      "outputs": [],
      "source": [
        "l1 = []"
      ]
    },
    {
      "cell_type": "code",
      "execution_count": null,
      "id": "3a06be4a-d01c-46a7-98f6-edc8e45ca547",
      "metadata": {
        "id": "3a06be4a-d01c-46a7-98f6-edc8e45ca547"
      },
      "outputs": [],
      "source": [
        "l1.append(l[0] +1)"
      ]
    },
    {
      "cell_type": "code",
      "execution_count": null,
      "id": "4b4f5187-3b25-4568-a154-c42235a6b823",
      "metadata": {
        "id": "4b4f5187-3b25-4568-a154-c42235a6b823",
        "outputId": "18f98c79-b202-4d0f-f97b-c6586d2bd8f7"
      },
      "outputs": [
        {
          "data": {
            "text/plain": [
              "[2]"
            ]
          },
          "execution_count": 80,
          "metadata": {},
          "output_type": "execute_result"
        }
      ],
      "source": [
        "l1"
      ]
    },
    {
      "cell_type": "code",
      "execution_count": null,
      "id": "8d0b681b-1507-4584-b285-2714f0d7ca5f",
      "metadata": {
        "id": "8d0b681b-1507-4584-b285-2714f0d7ca5f"
      },
      "outputs": [],
      "source": [
        "l = [1,2,3,3,4,5,6,7,8]"
      ]
    },
    {
      "cell_type": "code",
      "execution_count": null,
      "id": "741834cb-b41f-4639-b591-b4d9138356b5",
      "metadata": {
        "id": "741834cb-b41f-4639-b591-b4d9138356b5",
        "outputId": "e57bae36-b762-4d6c-f5c2-a580f8f1f1fb"
      },
      "outputs": [
        {
          "name": "stdout",
          "output_type": "stream",
          "text": [
            "2\n",
            "3\n",
            "4\n",
            "4\n",
            "5\n",
            "6\n",
            "7\n",
            "8\n",
            "9\n"
          ]
        },
        {
          "data": {
            "text/plain": [
              "[2, 3, 4, 4, 5, 6, 7, 8, 9]"
            ]
          },
          "execution_count": 119,
          "metadata": {},
          "output_type": "execute_result"
        }
      ],
      "source": [
        "l1 = []\n",
        "for i in l :\n",
        "    l1.append(i+1)\n",
        "    print(i+1)\n",
        "l1"
      ]
    },
    {
      "cell_type": "code",
      "execution_count": null,
      "id": "5ce68476-fb22-4199-abf5-82dd1ba9098b",
      "metadata": {
        "id": "5ce68476-fb22-4199-abf5-82dd1ba9098b"
      },
      "outputs": [],
      "source": []
    },
    {
      "cell_type": "code",
      "execution_count": null,
      "id": "e8321831-f0d3-491d-b7a4-b9c224cae5c9",
      "metadata": {
        "id": "e8321831-f0d3-491d-b7a4-b9c224cae5c9"
      },
      "outputs": [],
      "source": []
    },
    {
      "cell_type": "code",
      "execution_count": null,
      "id": "7f9a8af5-f494-4295-b0a0-ab868efe094c",
      "metadata": {
        "id": "7f9a8af5-f494-4295-b0a0-ab868efe094c",
        "outputId": "03c1ea1e-846b-486e-9eaa-78bfab43172e"
      },
      "outputs": [
        {
          "data": {
            "text/plain": [
              "[1, 2, 3, 3, 4, 5, 6, 7, 8]"
            ]
          },
          "execution_count": 87,
          "metadata": {},
          "output_type": "execute_result"
        }
      ],
      "source": [
        "l"
      ]
    },
    {
      "cell_type": "code",
      "execution_count": null,
      "id": "0db91fea-fa97-4115-bc50-83cdf35203bc",
      "metadata": {
        "id": "0db91fea-fa97-4115-bc50-83cdf35203bc"
      },
      "outputs": [],
      "source": [
        "l = [\"sudh\" , \"kumar\" , \"pwskills\" , \"course\"]"
      ]
    },
    {
      "cell_type": "code",
      "execution_count": null,
      "id": "01c7b1b3-05d2-4e81-9870-d2b01591f2c2",
      "metadata": {
        "id": "01c7b1b3-05d2-4e81-9870-d2b01591f2c2",
        "outputId": "47c67592-3aeb-4f4a-dbce-99146902c275"
      },
      "outputs": [
        {
          "name": "stdout",
          "output_type": "stream",
          "text": [
            "sudh\n",
            "kumar\n",
            "pwskills\n",
            "course\n"
          ]
        }
      ],
      "source": [
        "l1 = []\n",
        "for i in l :\n",
        "    print(i)\n",
        "    l1.append(i.upper())"
      ]
    },
    {
      "cell_type": "code",
      "execution_count": null,
      "id": "aa2f22b4-7831-477b-a522-c7715620a288",
      "metadata": {
        "id": "aa2f22b4-7831-477b-a522-c7715620a288",
        "outputId": "dd58bed5-2dd9-4023-8968-6ab5048e429d"
      },
      "outputs": [
        {
          "data": {
            "text/plain": [
              "['SUDH', 'KUMAR', 'PWSKILLS', 'COURSE']"
            ]
          },
          "execution_count": 92,
          "metadata": {},
          "output_type": "execute_result"
        }
      ],
      "source": [
        "l1"
      ]
    },
    {
      "cell_type": "code",
      "execution_count": null,
      "id": "d774bd3c-eca4-4e90-85ac-593270bcd9eb",
      "metadata": {
        "id": "d774bd3c-eca4-4e90-85ac-593270bcd9eb"
      },
      "outputs": [],
      "source": [
        "l = [1,2,3,4,4,\"sudh\" , \"kmumar\" , 324,34.456,\"abc\"]"
      ]
    },
    {
      "cell_type": "code",
      "execution_count": null,
      "id": "7f946d3f-8b87-4f90-a494-0b94e472433a",
      "metadata": {
        "id": "7f946d3f-8b87-4f90-a494-0b94e472433a"
      },
      "outputs": [],
      "source": [
        "l1_num = []\n",
        "l2_str = []\n",
        "for i in l :\n",
        "    if type(i) == int or type(i) == float :\n",
        "        l1_num.append(i)\n",
        "    else :\n",
        "        l2_str.append(i)"
      ]
    },
    {
      "cell_type": "code",
      "execution_count": null,
      "id": "78fc770b-66f2-4252-af13-0f192b55ba0f",
      "metadata": {
        "id": "78fc770b-66f2-4252-af13-0f192b55ba0f",
        "outputId": "cc62cd6e-e760-47eb-bbe7-785b00221558"
      },
      "outputs": [
        {
          "data": {
            "text/plain": [
              "[1, 2, 3, 4, 4, 324, 34.456]"
            ]
          },
          "execution_count": 97,
          "metadata": {},
          "output_type": "execute_result"
        }
      ],
      "source": [
        "l1_num"
      ]
    },
    {
      "cell_type": "code",
      "execution_count": null,
      "id": "04f1e78e-5853-475d-aeb8-0d77c4cb8fb3",
      "metadata": {
        "id": "04f1e78e-5853-475d-aeb8-0d77c4cb8fb3",
        "outputId": "a71e5376-6841-460e-cdb5-4b3f1af36ad3"
      },
      "outputs": [
        {
          "data": {
            "text/plain": [
              "['sudh', 'kmumar', 'abc']"
            ]
          },
          "execution_count": 98,
          "metadata": {},
          "output_type": "execute_result"
        }
      ],
      "source": [
        "l2_str"
      ]
    },
    {
      "cell_type": "code",
      "execution_count": null,
      "id": "a5d2c83d-436d-467c-9572-c07d87f4412e",
      "metadata": {
        "id": "a5d2c83d-436d-467c-9572-c07d87f4412e"
      },
      "outputs": [],
      "source": [
        "100+ sample "
      ]
    },
    {
      "cell_type": "code",
      "execution_count": null,
      "id": "4090412b-7795-400f-9039-db9c1b263537",
      "metadata": {
        "id": "4090412b-7795-400f-9039-db9c1b263537"
      },
      "outputs": [],
      "source": [
        "[] - list\n",
        "() - tuple\n",
        "{} - with flat element set \n",
        "{} - with key value pair dict"
      ]
    },
    {
      "cell_type": "code",
      "execution_count": null,
      "id": "e17558c2-fdde-42ff-913d-69bcf6b71a04",
      "metadata": {
        "id": "e17558c2-fdde-42ff-913d-69bcf6b71a04"
      },
      "outputs": [],
      "source": [
        "t = (True,4,5,6)"
      ]
    },
    {
      "cell_type": "code",
      "execution_count": null,
      "id": "a6318b84-6018-49ae-b870-60ab797cc7aa",
      "metadata": {
        "id": "a6318b84-6018-49ae-b870-60ab797cc7aa",
        "outputId": "e7e666a0-bff2-47e1-9470-c1caddf0717d"
      },
      "outputs": [
        {
          "data": {
            "text/plain": [
              "4"
            ]
          },
          "execution_count": 108,
          "metadata": {},
          "output_type": "execute_result"
        }
      ],
      "source": [
        "len(t)"
      ]
    },
    {
      "cell_type": "code",
      "execution_count": null,
      "id": "29862dc8-78da-427b-85ca-4d2d25bb0084",
      "metadata": {
        "id": "29862dc8-78da-427b-85ca-4d2d25bb0084",
        "outputId": "2d729256-d9f0-4693-f4ef-3f9d1f6d2cb4"
      },
      "outputs": [
        {
          "data": {
            "text/plain": [
              "1"
            ]
          },
          "execution_count": 109,
          "metadata": {},
          "output_type": "execute_result"
        }
      ],
      "source": [
        "t.count(True)"
      ]
    },
    {
      "cell_type": "code",
      "execution_count": null,
      "id": "d9d9be92-0644-4fa8-af68-afa75cb832b0",
      "metadata": {
        "id": "d9d9be92-0644-4fa8-af68-afa75cb832b0"
      },
      "outputs": [],
      "source": [
        "s2 = (1,4,7.7,\"class\",True)"
      ]
    },
    {
      "cell_type": "code",
      "execution_count": null,
      "id": "1bf37dd0-1a83-42fa-8445-b840cfa7e2e9",
      "metadata": {
        "id": "1bf37dd0-1a83-42fa-8445-b840cfa7e2e9",
        "outputId": "13b3522e-d1c3-41a3-8f7a-7afbc5638a88"
      },
      "outputs": [
        {
          "data": {
            "text/plain": [
              "2"
            ]
          },
          "execution_count": 111,
          "metadata": {},
          "output_type": "execute_result"
        }
      ],
      "source": [
        "s2.count(True)"
      ]
    },
    {
      "cell_type": "code",
      "execution_count": null,
      "id": "7deefa81-55f7-4da0-b923-d773a8612431",
      "metadata": {
        "id": "7deefa81-55f7-4da0-b923-d773a8612431",
        "outputId": "d2197a68-61fa-4608-8baa-f69a87c14f5d"
      },
      "outputs": [
        {
          "name": "stdout",
          "output_type": "stream",
          "text": [
            "you will be part of A1 batch\n"
          ]
        }
      ],
      "source": [
        "marks = 67\n",
        "if marks >= 80 :\n",
        "    print(\"you will be part of A0 batch\")\n",
        "elif marks >= 60 and marks < 80 :\n",
        "    print(\"you will be part of A1 batch\")\n",
        "elif marks >= 40 and marks < 60 :\n",
        "    print(\"you will be part of A2 batch\")\n",
        "else :\n",
        "    print(\"you will be part of A3 batch\")\n"
      ]
    },
    {
      "cell_type": "code",
      "execution_count": null,
      "id": "ec78cd90-1f3a-4f63-b91d-9fced7d3fdd1",
      "metadata": {
        "id": "ec78cd90-1f3a-4f63-b91d-9fced7d3fdd1",
        "outputId": "1a47c82b-8e2d-4d85-93fd-37a73d5ae324"
      },
      "outputs": [
        {
          "name": "stdout",
          "output_type": "stream",
          "text": [
            "you will be a part of A1 batch\n"
          ]
        }
      ],
      "source": [
        "marks = 70\n",
        "if marks >= 80 :\n",
        "    print(\"you will be a part of A0 batch\")\n",
        "if marks >= 60 and  marks <80 :\n",
        "    print(\"you will be a part of A1 batch\")\n",
        "elif marks >= 40 and marks < 60 :\n",
        "    print(\"you will be a part of A2 batch\")\n",
        "else :\n",
        "    print(\"you will be a part of A3 batch\")\n"
      ]
    },
    {
      "cell_type": "markdown",
      "id": "08a9c3a9-f48e-49f0-ac07-45fddbda9e80",
      "metadata": {
        "id": "08a9c3a9-f48e-49f0-ac07-45fddbda9e80"
      },
      "source": [
        "\n",
        "sdfas ff fsdfas dasdfasdf asdasdfasdf as\n",
        "asdfas\n",
        "fasd\n",
        "fs\n",
        "f\n",
        "asf\n",
        "asdf\n",
        "asdf\n",
        "asdf\n",
        "sdf\n",
        "asdf\n",
        "sf\n",
        "sdf\n",
        "asf\n",
        "sd\n",
        "fasd\n",
        "fasd"
      ]
    },
    {
      "cell_type": "code",
      "execution_count": null,
      "id": "0e743998-133d-4712-8ee0-577f32fc775b",
      "metadata": {
        "id": "0e743998-133d-4712-8ee0-577f32fc775b",
        "outputId": "f8f6ece5-8abf-4776-cb72-2e4aa61cdd2b"
      },
      "outputs": [
        {
          "name": "stdout",
          "output_type": "stream",
          "text": [
            "you will be part of A1 batch\n"
          ]
        }
      ],
      "source": [
        "marks = int(input(\"enter your marks\"))\n",
        "\n",
        "if marks > 100 :\n",
        "    print(\"this is not a valid marks )\n",
        "else : \n",
        "    if marks >= 80 :\n",
        "        print(\"you will be part of A0 batch\") \n",
        "    elif marks >= 60 and marks < 80 :\n",
        "        print(\"you will be part of A1 batch\")\n",
        "    elif marks >= 40 and marks < 60 :\n",
        "        print(\"you will be part of A2 batch\")\n",
        "    else :\n",
        "        print(\"you will be part of A3 batch\")\n"
      ]
    },
    {
      "cell_type": "code",
      "execution_count": null,
      "id": "efb92cf4-7ff7-42d1-ab73-647626c5e388",
      "metadata": {
        "id": "efb92cf4-7ff7-42d1-ab73-647626c5e388"
      },
      "outputs": [],
      "source": [
        "s = \"munna\""
      ]
    },
    {
      "cell_type": "code",
      "execution_count": null,
      "id": "4c19496b-5175-40cf-81dc-61090b335ad8",
      "metadata": {
        "id": "4c19496b-5175-40cf-81dc-61090b335ad8",
        "outputId": "3ae25862-c25c-4a3f-ab6b-b6dcc05ff324"
      },
      "outputs": [
        {
          "ename": "TypeError",
          "evalue": "'str' object does not support item assignment",
          "output_type": "error",
          "traceback": [
            "\u001b[0;31m---------------------------------------------------------------------------\u001b[0m",
            "\u001b[0;31mTypeError\u001b[0m                                 Traceback (most recent call last)",
            "Cell \u001b[0;32mIn[125], line 1\u001b[0m\n\u001b[0;32m----> 1\u001b[0m \u001b[43ms\u001b[49m\u001b[43m[\u001b[49m\u001b[38;5;241;43m0\u001b[39;49m\u001b[43m]\u001b[49m \u001b[38;5;241m=\u001b[39m \u001b[38;5;241m1\u001b[39m\n",
            "\u001b[0;31mTypeError\u001b[0m: 'str' object does not support item assignment"
          ]
        }
      ],
      "source": [
        "s[0] = 1"
      ]
    },
    {
      "cell_type": "code",
      "execution_count": null,
      "id": "383c0c71-48e1-4387-b8d2-c0965fdce21e",
      "metadata": {
        "id": "383c0c71-48e1-4387-b8d2-c0965fdce21e"
      },
      "outputs": [],
      "source": [
        "l = [1,2,3,45]"
      ]
    },
    {
      "cell_type": "code",
      "execution_count": null,
      "id": "3208c292-c838-46f7-bdf4-93305ef21905",
      "metadata": {
        "id": "3208c292-c838-46f7-bdf4-93305ef21905"
      },
      "outputs": [],
      "source": [
        "l[0] = 100"
      ]
    },
    {
      "cell_type": "code",
      "execution_count": null,
      "id": "189949a7-c977-4d6d-b7fd-c14d45badd57",
      "metadata": {
        "id": "189949a7-c977-4d6d-b7fd-c14d45badd57",
        "outputId": "d56511c4-6ad5-44b7-e926-12aa6e078b61"
      },
      "outputs": [
        {
          "data": {
            "text/plain": [
              "[100, 2, 3, 45]"
            ]
          },
          "execution_count": 129,
          "metadata": {},
          "output_type": "execute_result"
        }
      ],
      "source": [
        "l"
      ]
    },
    {
      "cell_type": "code",
      "execution_count": null,
      "id": "ccf66083-4c88-4aaa-850b-135a52bd4b64",
      "metadata": {
        "id": "ccf66083-4c88-4aaa-850b-135a52bd4b64",
        "outputId": "fab86a34-567d-46c5-950c-4bf7d36acf8a"
      },
      "outputs": [
        {
          "name": "stdout",
          "output_type": "stream",
          "text": [
            "101\n",
            "3\n",
            "4\n",
            "46\n"
          ]
        },
        {
          "data": {
            "text/plain": [
              "[101, 3, 4, 46]"
            ]
          },
          "execution_count": 131,
          "metadata": {},
          "output_type": "execute_result"
        }
      ],
      "source": [
        "l2 = []\n",
        "for i in l :\n",
        "    l2.append(i+1)\n",
        "    print(i+1)\n",
        "l2"
      ]
    },
    {
      "cell_type": "code",
      "execution_count": null,
      "id": "91732a5b-3181-4d7e-b628-8bbdf2773797",
      "metadata": {
        "id": "91732a5b-3181-4d7e-b628-8bbdf2773797",
        "outputId": "27ca336b-f22c-43e6-cf6e-3865ce9c2245"
      },
      "outputs": [
        {
          "name": "stdout",
          "output_type": "stream",
          "text": [
            "3\n",
            "4\n",
            "5\n",
            "5\n",
            "6\n",
            "7\n",
            "8\n",
            "9\n",
            "10\n"
          ]
        },
        {
          "data": {
            "text/plain": [
              "[3, 4, 5, 5, 6, 7, 8, 9, 10]"
            ]
          },
          "execution_count": 132,
          "metadata": {},
          "output_type": "execute_result"
        }
      ],
      "source": [
        "l2 = []\n",
        "for i in l1 :\n",
        "    l2.append(i+1)\n",
        "    print(i+1)\n",
        "l2"
      ]
    },
    {
      "cell_type": "code",
      "execution_count": null,
      "id": "6cebbed4-87aa-409a-9c46-065900fd4d8a",
      "metadata": {
        "id": "6cebbed4-87aa-409a-9c46-065900fd4d8a",
        "outputId": "85cfc339-040c-489b-bb6f-a406dc608114"
      },
      "outputs": [
        {
          "name": "stdout",
          "output_type": "stream",
          "text": [
            "a\n",
            "k\n",
            "s\n",
            "h\n",
            "a\n",
            "t\n"
          ]
        }
      ],
      "source": [
        "for ak in \"akshat\": \n",
        "    print(ak)\n"
      ]
    },
    {
      "cell_type": "code",
      "execution_count": null,
      "id": "699c6b0f-a456-4ca7-8112-1a70ff98d1f6",
      "metadata": {
        "id": "699c6b0f-a456-4ca7-8112-1a70ff98d1f6",
        "outputId": "9b2d032a-4953-4463-e9f6-b9e90f08c76d"
      },
      "outputs": [
        {
          "name": "stdout",
          "output_type": "stream",
          "text": [
            "keys :  ['a', 'b', 'c']\n",
            "values :  ['akshat', 'bhuvan', 'chandan']\n"
          ]
        }
      ],
      "source": [
        "dict1 = {'a': 'akshat', 'b': 'bhuvan', 'c': 'chandan'}\n",
        " \n",
        "keys = []\n",
        "values = []\n",
        "for item in dict1.items():\n",
        "    keys.append(item[0]), values.append(item[1])\n",
        "\n",
        "print(\"keys : \", keys)\n",
        "print(\"values : \", values)\n"
      ]
    },
    {
      "cell_type": "code",
      "execution_count": null,
      "id": "e69cdafe-3c7c-49e4-87fd-4ccce33355fd",
      "metadata": {
        "id": "e69cdafe-3c7c-49e4-87fd-4ccce33355fd",
        "outputId": "fbf1600c-40fd-4ebc-c714-b58c92b1e69f"
      },
      "outputs": [
        {
          "data": {
            "text/plain": [
              "{'launch_date': {12, 14, 28},\n",
              " 'class_time': {'web_dev': 8,\n",
              "  'Data science masters': 8,\n",
              "  'java with dsa and system design': 7},\n",
              " 'mentor': ['sudhanshu', 'krish', 'anurag', 'hayder']}"
            ]
          },
          "execution_count": 136,
          "metadata": {},
          "output_type": "execute_result"
        }
      ],
      "source": [
        "d6"
      ]
    },
    {
      "cell_type": "code",
      "execution_count": null,
      "id": "e7e1d0ea-4a6d-4f2f-8b85-e00d55113118",
      "metadata": {
        "id": "e7e1d0ea-4a6d-4f2f-8b85-e00d55113118",
        "outputId": "340c46f7-6d0f-4098-d1fc-48814b247250"
      },
      "outputs": [
        {
          "data": {
            "text/plain": [
              "{3: None, 4: None, 5: None, 6: None}"
            ]
          },
          "execution_count": 137,
          "metadata": {},
          "output_type": "execute_result"
        }
      ],
      "source": [
        "d6.fromkeys([3,4,5,6])"
      ]
    },
    {
      "cell_type": "code",
      "execution_count": null,
      "id": "265274f4-afa6-4c68-bff1-edb6736fc4c1",
      "metadata": {
        "id": "265274f4-afa6-4c68-bff1-edb6736fc4c1"
      },
      "outputs": [],
      "source": []
    }
  ],
  "metadata": {
    "kernelspec": {
      "display_name": "Python 3 (ipykernel)",
      "language": "python",
      "name": "python3"
    },
    "language_info": {
      "codemirror_mode": {
        "name": "ipython",
        "version": 3
      },
      "file_extension": ".py",
      "mimetype": "text/x-python",
      "name": "python",
      "nbconvert_exporter": "python",
      "pygments_lexer": "ipython3",
      "version": "3.10.8"
    },
    "colab": {
      "provenance": []
    }
  },
  "nbformat": 4,
  "nbformat_minor": 5
}